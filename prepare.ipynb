{
 "cells": [
  {
   "cell_type": "markdown",
   "id": "479ce188-77dc-467d-91c6-3d1374fe1541",
   "metadata": {},
   "source": [
    "# Prepare:\n",
    "    Here we are looking at the data and making sure it is realiable and that all the information is constant and pythonic."
   ]
  },
  {
   "cell_type": "markdown",
   "id": "604917c6-6ee7-49c9-a7ff-c71795594ae9",
   "metadata": {},
   "source": [
    "# Imports"
   ]
  },
  {
   "cell_type": "code",
   "execution_count": 1,
   "id": "482084ca-9333-4d86-878d-ee11cddf655c",
   "metadata": {},
   "outputs": [],
   "source": [
    "import pandas as pd\n",
    "import numpy as np\n",
    "import matplotlib.pyplot as plt\n",
    "import acquire as acq"
   ]
  },
  {
   "cell_type": "markdown",
   "id": "ffda54da-4945-42f4-ba57-666b6eb149cb",
   "metadata": {},
   "source": [
    "# Preparing our columns"
   ]
  },
  {
   "cell_type": "code",
   "execution_count": 2,
   "id": "f3a99d9d-cd64-4612-85cd-ce9c8d8cbef0",
   "metadata": {},
   "outputs": [],
   "source": [
    "df = acq.get_sales_data()"
   ]
  },
  {
   "cell_type": "code",
   "execution_count": 7,
   "id": "ba513270-960a-41b9-aea7-212e393a4477",
   "metadata": {},
   "outputs": [],
   "source": [
    "df.drop(columns='Unnamed: 0',inplace=True)"
   ]
  },
  {
   "cell_type": "code",
   "execution_count": 10,
   "id": "3a6969d6-36a9-42fb-bb58-2a8a8538b2d6",
   "metadata": {},
   "outputs": [],
   "source": [
    "df.columns = df.columns.str.replace(' ', '_').str.lower()"
   ]
  },
  {
   "cell_type": "markdown",
   "id": "debbedd1-0cfa-4c44-852f-35eaa866274e",
   "metadata": {},
   "source": [
    "## Getting familiar with our data "
   ]
  },
  {
   "cell_type": "code",
   "execution_count": 12,
   "id": "0cb33052-0ce2-484e-a371-514d52e71e05",
   "metadata": {},
   "outputs": [
    {
     "name": "stdout",
     "output_type": "stream",
     "text": [
      "<class 'pandas.core.frame.DataFrame'>\n",
      "RangeIndex: 954 entries, 0 to 953\n",
      "Data columns (total 14 columns):\n",
      " #   Column        Non-Null Count  Dtype  \n",
      "---  ------        --------------  -----  \n",
      " 0   order_id      954 non-null    object \n",
      " 1   order_date    954 non-null    object \n",
      " 2   ship_date     954 non-null    object \n",
      " 3   country       954 non-null    object \n",
      " 4   city          954 non-null    object \n",
      " 5   state         954 non-null    object \n",
      " 6   postal_code   954 non-null    float64\n",
      " 7   sales         954 non-null    float64\n",
      " 8   quantity      954 non-null    float64\n",
      " 9   discount      954 non-null    float64\n",
      " 10  profit        954 non-null    float64\n",
      " 11  category      954 non-null    object \n",
      " 12  sub-category  954 non-null    object \n",
      " 13  product_name  954 non-null    object \n",
      "dtypes: float64(5), object(9)\n",
      "memory usage: 104.5+ KB\n"
     ]
    }
   ],
   "source": [
    "df.info()"
   ]
  },
  {
   "cell_type": "code",
   "execution_count": 23,
   "id": "552f0440-a854-467d-9c68-3daf9da13396",
   "metadata": {},
   "outputs": [],
   "source": [
    "# making the data standard. \n",
    "for cols in df.columns:\n",
    "    if df[cols].dtype == 'object':\n",
    "        df[cols] = df[cols].str.lower()\n",
    "    else:\n",
    "        df[cols] = round(df[cols], 2)"
   ]
  },
  {
   "cell_type": "code",
   "execution_count": 22,
   "id": "68f9853a-cf1e-4aee-b2e7-82b348365b8b",
   "metadata": {},
   "outputs": [
    {
     "data": {
      "text/plain": [
       "order_id        0\n",
       "order_date      0\n",
       "ship_date       0\n",
       "country         0\n",
       "city            0\n",
       "state           0\n",
       "postal_code     0\n",
       "sales           0\n",
       "quantity        0\n",
       "discount        0\n",
       "profit          0\n",
       "category        0\n",
       "sub-category    0\n",
       "product_name    0\n",
       "dtype: int64"
      ]
     },
     "execution_count": 22,
     "metadata": {},
     "output_type": "execute_result"
    }
   ],
   "source": [
    "df.isna().sum()"
   ]
  },
  {
   "cell_type": "code",
   "execution_count": 27,
   "id": "1a101ebc-6284-4271-98c3-f5004060b908",
   "metadata": {},
   "outputs": [
    {
     "data": {
      "text/plain": [
       "0"
      ]
     },
     "execution_count": 27,
     "metadata": {},
     "output_type": "execute_result"
    }
   ],
   "source": [
    "df.duplicated().sum()"
   ]
  },
  {
   "cell_type": "code",
   "execution_count": 28,
   "id": "862ac2f5-b80a-4662-98cb-2829dd1bba74",
   "metadata": {},
   "outputs": [
    {
     "data": {
      "text/html": [
       "<div>\n",
       "<style scoped>\n",
       "    .dataframe tbody tr th:only-of-type {\n",
       "        vertical-align: middle;\n",
       "    }\n",
       "\n",
       "    .dataframe tbody tr th {\n",
       "        vertical-align: top;\n",
       "    }\n",
       "\n",
       "    .dataframe thead th {\n",
       "        text-align: right;\n",
       "    }\n",
       "</style>\n",
       "<table border=\"1\" class=\"dataframe\">\n",
       "  <thead>\n",
       "    <tr style=\"text-align: right;\">\n",
       "      <th></th>\n",
       "      <th>order_id</th>\n",
       "      <th>order_date</th>\n",
       "      <th>ship_date</th>\n",
       "      <th>country</th>\n",
       "      <th>city</th>\n",
       "      <th>state</th>\n",
       "      <th>postal_code</th>\n",
       "      <th>sales</th>\n",
       "      <th>quantity</th>\n",
       "      <th>discount</th>\n",
       "      <th>profit</th>\n",
       "      <th>category</th>\n",
       "      <th>sub-category</th>\n",
       "      <th>product_name</th>\n",
       "    </tr>\n",
       "  </thead>\n",
       "  <tbody>\n",
       "    <tr>\n",
       "      <th>0</th>\n",
       "      <td>ca-2016-152156</td>\n",
       "      <td>2016-11-08</td>\n",
       "      <td>2016-11-11</td>\n",
       "      <td>united states</td>\n",
       "      <td>henderson</td>\n",
       "      <td>kentucky</td>\n",
       "      <td>42420.0</td>\n",
       "      <td>261.96</td>\n",
       "      <td>2.0</td>\n",
       "      <td>0.00</td>\n",
       "      <td>41.91</td>\n",
       "      <td>furniture</td>\n",
       "      <td>bookcases</td>\n",
       "      <td>bush somerset collection bookcase</td>\n",
       "    </tr>\n",
       "    <tr>\n",
       "      <th>1</th>\n",
       "      <td>ca-2016-152156</td>\n",
       "      <td>2016-11-08</td>\n",
       "      <td>2016-11-11</td>\n",
       "      <td>united states</td>\n",
       "      <td>henderson</td>\n",
       "      <td>kentucky</td>\n",
       "      <td>42420.0</td>\n",
       "      <td>731.94</td>\n",
       "      <td>3.0</td>\n",
       "      <td>0.00</td>\n",
       "      <td>219.58</td>\n",
       "      <td>furniture</td>\n",
       "      <td>chairs</td>\n",
       "      <td>hon deluxe fabric upholstered stacking chairs,...</td>\n",
       "    </tr>\n",
       "    <tr>\n",
       "      <th>2</th>\n",
       "      <td>us-2015-108966</td>\n",
       "      <td>2015-10-11</td>\n",
       "      <td>2015-10-18</td>\n",
       "      <td>united states</td>\n",
       "      <td>fort lauderdale</td>\n",
       "      <td>florida</td>\n",
       "      <td>33311.0</td>\n",
       "      <td>957.58</td>\n",
       "      <td>5.0</td>\n",
       "      <td>0.45</td>\n",
       "      <td>-383.03</td>\n",
       "      <td>furniture</td>\n",
       "      <td>tables</td>\n",
       "      <td>bretford cr4500 series slim rectangular table</td>\n",
       "    </tr>\n",
       "    <tr>\n",
       "      <th>3</th>\n",
       "      <td>us-2015-108966</td>\n",
       "      <td>2015-10-11</td>\n",
       "      <td>2015-10-18</td>\n",
       "      <td>united states</td>\n",
       "      <td>fort lauderdale</td>\n",
       "      <td>florida</td>\n",
       "      <td>33311.0</td>\n",
       "      <td>22.37</td>\n",
       "      <td>2.0</td>\n",
       "      <td>0.20</td>\n",
       "      <td>2.52</td>\n",
       "      <td>office supplies</td>\n",
       "      <td>storage</td>\n",
       "      <td>eldon fold 'n roll cart system</td>\n",
       "    </tr>\n",
       "    <tr>\n",
       "      <th>4</th>\n",
       "      <td>ca-2014-115812</td>\n",
       "      <td>2014-06-09</td>\n",
       "      <td>2014-06-14</td>\n",
       "      <td>united states</td>\n",
       "      <td>los angeles</td>\n",
       "      <td>california</td>\n",
       "      <td>90032.0</td>\n",
       "      <td>48.86</td>\n",
       "      <td>7.0</td>\n",
       "      <td>0.00</td>\n",
       "      <td>14.17</td>\n",
       "      <td>furniture</td>\n",
       "      <td>furnishings</td>\n",
       "      <td>eldon expressions wood and plastic desk access...</td>\n",
       "    </tr>\n",
       "  </tbody>\n",
       "</table>\n",
       "</div>"
      ],
      "text/plain": [
       "         order_id  order_date   ship_date        country             city  \\\n",
       "0  ca-2016-152156  2016-11-08  2016-11-11  united states        henderson   \n",
       "1  ca-2016-152156  2016-11-08  2016-11-11  united states        henderson   \n",
       "2  us-2015-108966  2015-10-11  2015-10-18  united states  fort lauderdale   \n",
       "3  us-2015-108966  2015-10-11  2015-10-18  united states  fort lauderdale   \n",
       "4  ca-2014-115812  2014-06-09  2014-06-14  united states      los angeles   \n",
       "\n",
       "        state  postal_code   sales  quantity  discount  profit  \\\n",
       "0    kentucky      42420.0  261.96       2.0      0.00   41.91   \n",
       "1    kentucky      42420.0  731.94       3.0      0.00  219.58   \n",
       "2     florida      33311.0  957.58       5.0      0.45 -383.03   \n",
       "3     florida      33311.0   22.37       2.0      0.20    2.52   \n",
       "4  california      90032.0   48.86       7.0      0.00   14.17   \n",
       "\n",
       "          category sub-category  \\\n",
       "0        furniture    bookcases   \n",
       "1        furniture       chairs   \n",
       "2        furniture       tables   \n",
       "3  office supplies      storage   \n",
       "4        furniture  furnishings   \n",
       "\n",
       "                                        product_name  \n",
       "0                  bush somerset collection bookcase  \n",
       "1  hon deluxe fabric upholstered stacking chairs,...  \n",
       "2      bretford cr4500 series slim rectangular table  \n",
       "3                     eldon fold 'n roll cart system  \n",
       "4  eldon expressions wood and plastic desk access...  "
      ]
     },
     "execution_count": 28,
     "metadata": {},
     "output_type": "execute_result"
    }
   ],
   "source": [
    "df.head()"
   ]
  },
  {
   "cell_type": "markdown",
   "id": "5a1ee5db-17ab-4183-9939-87cb577a403c",
   "metadata": {},
   "source": [
    "# Setting the index to datetimne "
   ]
  },
  {
   "cell_type": "code",
   "execution_count": 33,
   "id": "d4e30f56-326c-407b-b4d0-95980de9cc06",
   "metadata": {},
   "outputs": [],
   "source": [
    "df['order_date'] = pd.to_datetime(df.order_date, format='%Y-%m-%d')"
   ]
  },
  {
   "cell_type": "code",
   "execution_count": 35,
   "id": "cf4d56cf-3ce7-49fc-a919-1a24870ff08a",
   "metadata": {},
   "outputs": [],
   "source": [
    "df.set_index('order_date', inplace=True)"
   ]
  },
  {
   "cell_type": "code",
   "execution_count": 68,
   "id": "903856b7-5fab-4da7-ad3d-7b6e2c48978b",
   "metadata": {},
   "outputs": [],
   "source": [
    "# Calculating the IQR of sale of numbers. \n",
    "Q3 = sales.quantile(q=0.75)\n",
    "Q1 = sales.quantile(q=0.25)\n",
    "IQR = Q3 - Q1\n"
   ]
  },
  {
   "cell_type": "code",
   "execution_count": 70,
   "id": "661f6925-0800-4fc2-9934-94a34384bc63",
   "metadata": {},
   "outputs": [
    {
     "data": {
      "text/plain": [
       "455.0"
      ]
     },
     "execution_count": 70,
     "metadata": {},
     "output_type": "execute_result"
    }
   ],
   "source": [
    "(IQR * 1.5 - Q1 ) + Q3"
   ]
  }
 ],
 "metadata": {
  "kernelspec": {
   "display_name": "Python 3 (ipykernel)",
   "language": "python",
   "name": "python3"
  },
  "language_info": {
   "codemirror_mode": {
    "name": "ipython",
    "version": 3
   },
   "file_extension": ".py",
   "mimetype": "text/x-python",
   "name": "python",
   "nbconvert_exporter": "python",
   "pygments_lexer": "ipython3",
   "version": "3.10.9"
  }
 },
 "nbformat": 4,
 "nbformat_minor": 5
}
