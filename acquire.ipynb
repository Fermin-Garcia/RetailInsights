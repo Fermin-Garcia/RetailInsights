{
 "cells": [
  {
   "cell_type": "markdown",
   "id": "76b1ae35-16a0-4595-9d20-d30d8436f4f1",
   "metadata": {},
   "source": [
    "# Imports "
   ]
  },
  {
   "cell_type": "code",
   "execution_count": 4,
   "id": "2096d9c3-38ef-4f9c-9de8-002c78859ea7",
   "metadata": {},
   "outputs": [],
   "source": [
    "import pandas as pd \n",
    "import acquire as acq"
   ]
  },
  {
   "cell_type": "markdown",
   "id": "57a2c9ce-fb4a-48b9-a14f-4ace069c374c",
   "metadata": {},
   "source": [
    "# Testing function in acquire.py"
   ]
  },
  {
   "cell_type": "code",
   "execution_count": 5,
   "id": "92767f68-9d15-48ab-bd28-3cc295c5242e",
   "metadata": {},
   "outputs": [],
   "source": [
    "df = acq.get_sales_data()"
   ]
  }
 ],
 "metadata": {
  "kernelspec": {
   "display_name": "Python 3 (ipykernel)",
   "language": "python",
   "name": "python3"
  },
  "language_info": {
   "codemirror_mode": {
    "name": "ipython",
    "version": 3
   },
   "file_extension": ".py",
   "mimetype": "text/x-python",
   "name": "python",
   "nbconvert_exporter": "python",
   "pygments_lexer": "ipython3",
   "version": "3.10.9"
  }
 },
 "nbformat": 4,
 "nbformat_minor": 5
}
